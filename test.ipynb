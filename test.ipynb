{
 "cells": [
  {
   "cell_type": "markdown",
   "metadata": {},
   "source": [
    "# 利用py注解实现创建sql"
   ]
  },
  {
   "cell_type": "markdown",
   "metadata": {},
   "source": [
    "本文只提供了最基本的定制sql的注解，但是实际中，你可以通过这些基本注解，再定义自己的注解，从而实现更丰富的功能。"
   ]
  },
  {
   "cell_type": "code",
   "execution_count": 63,
   "metadata": {},
   "outputs": [
    {
     "data": {
      "text/plain": [
       "<module 'sql_builder' from '/Users/liuning11/project/py-sql-builder/sql_builder.py'>"
      ]
     },
     "execution_count": 63,
     "metadata": {},
     "output_type": "execute_result"
    }
   ],
   "source": [
    "from imp import reload\n",
    "from sql_builder import *\n",
    "\n",
    "reload(sql_builder)"
   ]
  },
  {
   "cell_type": "markdown",
   "metadata": {},
   "source": [
    "# 表"
   ]
  },
  {
   "cell_type": "markdown",
   "metadata": {},
   "source": [
    "- Persons 表\n",
    "\n",
    "Id_P\t| LastName\t| FirstName\t| Address\t| City\n",
    "---|---|---|---|---\n",
    "1\t| Adams\t| John\t| Oxford | Street London\n",
    "- | - | - | - | - \n",
    "\n",
    "- Orders 表\n",
    "\n",
    "Id_O\t| OrderNo\t| Id_P\n",
    "---|---|---\n",
    "1\t| 77895\t| 3\n",
    "- | - | -\n"
   ]
  },
  {
   "cell_type": "markdown",
   "metadata": {},
   "source": [
    "# 测试Select和SubQuery"
   ]
  },
  {
   "cell_type": "code",
   "execution_count": 64,
   "metadata": {},
   "outputs": [],
   "source": [
    "def test_Select_and_SubQuery():\n",
    "\n",
    "    @SubQuery(field=['Id_P', 'concat(FirstName,LastName) as name'], alias='p')\n",
    "    @Select(field=['Id_P', 'LastName', 'FirstName'], f=[\"1=1\"])\n",
    "    def table():\n",
    "        return 'Persons'\n",
    "\n",
    "    s = table()\n",
    "    print('s:   {}'.format(s))"
   ]
  },
  {
   "cell_type": "code",
   "execution_count": 65,
   "metadata": {},
   "outputs": [
    {
     "name": "stdout",
     "output_type": "stream",
     "text": [
      "s:   select Id_P,concat(FirstName,LastName) as name from (select Id_P,LastName,FirstName from Persons WHERE 1=1) p\n"
     ]
    }
   ],
   "source": [
    "test_Select_and_SubQuery()"
   ]
  },
  {
   "cell_type": "markdown",
   "metadata": {},
   "source": [
    "# 测试AggregateSel"
   ]
  },
  {
   "cell_type": "code",
   "execution_count": 66,
   "metadata": {},
   "outputs": [],
   "source": [
    "def test_AggregateSel():\n",
    "\n",
    "    @AggregateSel(field=['Id_P','count(*)'], f=['1=1'], group=['Id_P'])\n",
    "    def Persons():\n",
    "        return 'Orders'\n",
    "\n",
    "    s = Persons()\n",
    "    print('join:  {}'.format(s))"
   ]
  },
  {
   "cell_type": "code",
   "execution_count": 67,
   "metadata": {},
   "outputs": [
    {
     "name": "stdout",
     "output_type": "stream",
     "text": [
      "join:  select Id_P,count(*) from Orders WHERE 1=1 GROUP BY Id_P\n"
     ]
    }
   ],
   "source": [
    "test_AggregateSel()"
   ]
  },
  {
   "cell_type": "markdown",
   "metadata": {},
   "source": [
    "# 测试Join"
   ]
  },
  {
   "cell_type": "code",
   "execution_count": 39,
   "metadata": {},
   "outputs": [],
   "source": [
    "def test_Join():\n",
    "\n",
    "    @Select(field=['*'], f=[])\n",
    "    def Persons():\n",
    "        return 'Persons'\n",
    "\n",
    "    @Select(field=['*'], f=[])\n",
    "    def Orders():\n",
    "        return 'Orders'\n",
    "\n",
    "    sql_p = Persons()\n",
    "    sql_o = Orders()\n",
    "    print('filter person:{}'.format(sql_p))\n",
    "    print('filter order: {}'.format(sql_o))\n",
    "\n",
    "    @Join(t=\"eq\", before=sql_o, after=sql_p, \n",
    "          field=['t1.OrderNo','concat(t2.FirstName, t2.LastName) as name'], \n",
    "          on=['t1.Id_P=t2.Id_P'],before_alias=\"t1\", after_alias=\"t2\")\n",
    "    def join(before_field=[], after_field=[]):\n",
    "        return {\n",
    "            \"before_field\": before_field,\n",
    "            \"after_field\": after_field\n",
    "        }\n",
    "\n",
    "    s3 = join()\n",
    "    print('join:  {}'.format(s3))"
   ]
  },
  {
   "cell_type": "code",
   "execution_count": 40,
   "metadata": {},
   "outputs": [
    {
     "name": "stdout",
     "output_type": "stream",
     "text": [
      "filter person:select * from Persons \n",
      "filter order: select * from Orders \n",
      "join:  \n",
      "    select t1.OrderNo,concat(t2.FirstName, t2.LastName) as name from (select * from Orders ) t1\n",
      "    join (select * from Persons ) t2 on(t1.Id_P=t2.Id_P)\n",
      "    \n"
     ]
    }
   ],
   "source": [
    "test_Join()"
   ]
  },
  {
   "cell_type": "markdown",
   "metadata": {},
   "source": [
    "# 测试SelectMap和Map"
   ]
  },
  {
   "cell_type": "code",
   "execution_count": 41,
   "metadata": {},
   "outputs": [],
   "source": [
    "def test_SelectMap_and_Map():\n",
    "\n",
    "    @SelectMap(\n",
    "        field=['id', 'start_date', 'len', \"regexp_replace(regexp_replace(y, '\\\\\\\\]', ''), '\\\\\\\\[', '') as y\"],\n",
    "        field_map=['id', 'start_date', 'len', 'split(y) as y'], alias=\"t1\",\n",
    "        f=[\"type='ttt'\", \"and\", \"key='sales'\"])\n",
    "    def select_map(table):\n",
    "        return {\"table\": table}\n",
    "\n",
    "    s1 = select_map(table=\"mytable\")\n",
    "    print('s1:  {}'.format(s1))\n",
    "\n",
    "    @Map(mapper=['id', 'start_date', 'len', \"concat(',', d1, d2)\"], alias=\"t2\")\n",
    "    @Map(mapper=['id', 'start_date', 'len', 'd1', 'd2'], alias=\"t2\")\n",
    "    def mapper():\n",
    "        sql = select_map(\"mytable\")\n",
    "        return sql\n",
    "\n",
    "    s2 = mapper()\n",
    "    print('s2:  {}'.format(s2))"
   ]
  },
  {
   "cell_type": "code",
   "execution_count": 42,
   "metadata": {},
   "outputs": [
    {
     "name": "stdout",
     "output_type": "stream",
     "text": [
      "s1:  select id,start_date,len,split(y) as y from (select id,start_date,len,regexp_replace(regexp_replace(y, '\\\\]', ''), '\\\\[', '') as y from mytable WHERE type='ttt' and key='sales') t1\n",
      "s2:  select id,start_date,len,concat(',', d1, d2) from (select id,start_date,len,d1,d2 from (select id,start_date,len,split(y) as y from (select id,start_date,len,regexp_replace(regexp_replace(y, '\\\\]', ''), '\\\\[', '') as y from mytable WHERE type='ttt' and key='sales') t1) t2) t2\n"
     ]
    }
   ],
   "source": [
    "test_SelectMap_and_Map()"
   ]
  },
  {
   "cell_type": "markdown",
   "metadata": {},
   "source": [
    "# 参考"
   ]
  },
  {
   "cell_type": "markdown",
   "metadata": {},
   "source": [
    "1. [py装饰器](https://github.com/WallaceLiu/py-decorator)"
   ]
  }
 ],
 "metadata": {
  "kernelspec": {
   "display_name": "Python 3",
   "language": "python",
   "name": "python3"
  },
  "language_info": {
   "codemirror_mode": {
    "name": "ipython",
    "version": 3
   },
   "file_extension": ".py",
   "mimetype": "text/x-python",
   "name": "python",
   "nbconvert_exporter": "python",
   "pygments_lexer": "ipython3",
   "version": "3.6.4"
  }
 },
 "nbformat": 4,
 "nbformat_minor": 2
}
