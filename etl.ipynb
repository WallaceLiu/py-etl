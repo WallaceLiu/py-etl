{
 "cells": [
  {
   "cell_type": "code",
   "execution_count": 29,
   "metadata": {},
   "outputs": [],
   "source": [
    "from functools import wraps\n",
    "\n",
    "class Select(object):\n",
    "    _sql = \"select {field} from {table} where {filter} {group}\"\n",
    "\n",
    "    def __init__(self, fld, flt, grp):\n",
    "        self._field = fld\n",
    "        self._filter = flt\n",
    "        self._group = grp\n",
    "\n",
    "    def __call__(self, fn):\n",
    "        @wraps(fn)\n",
    "        def wrapped(*args, **kwargs):\n",
    "            fieldStr = ','.join(self._field)\n",
    "            filterStr = ','.join(self._filter)\n",
    "            groupStr = ','.join(self._group)\n",
    "            groupStr = \"\" if len(groupStr) <= 0 else \"group by \" + groupStr\n",
    "            return self._sql.format(field=fieldStr,\n",
    "                                    table=fn(*args, **kwargs),\n",
    "                                    filter=filterStr,\n",
    "                                    group=groupStr)\n",
    "\n",
    "        return wrapped\n",
    "\n",
    "\n",
    "class SubQuery(object):\n",
    "    _sql = \"select {field} from ({subquery}) {alias}\"\n",
    "\n",
    "    def __init__(self, field, alias):\n",
    "        self._field = field\n",
    "        self._alias = alias\n",
    "\n",
    "    def __call__(self, fn):\n",
    "        @wraps(fn)\n",
    "        def wrapped(*args, **kwargs):\n",
    "            f = [self._alias + '.' + f for f in self._field]\n",
    "            return self._sql.format(field=','.join(f), \n",
    "                                    subquery=fn(*args, **kwargs), \n",
    "                                    alias=self._alias)\n",
    "\n",
    "        return wrapped\n",
    "\n",
    "\n",
    "class Join(object):\n",
    "    _sql = \"\"\"\n",
    "    select {field} from ({t1}) t1\n",
    "    join ({t2}) t2 on({on})\n",
    "    \"\"\"\n",
    "\n",
    "    def __init__(self, field, t1, t2, on):\n",
    "        self._field = field\n",
    "        self._t1 = t1\n",
    "        self._t2 = t2\n",
    "        self._on = on\n",
    "\n",
    "    def __call__(self, fn):\n",
    "        @wraps(fn)\n",
    "        def wrapped(*args, **kwargs):\n",
    "            return self._sql.format(field=','.join(self._field), \n",
    "                                    t1=self._t1, \n",
    "                                    t2=self._t2, \n",
    "                                    on=' '.join(self._on))\n",
    "\n",
    "        return wrapped\n",
    "\n",
    "\n",
    "class LeftJoin(object):\n",
    "    _sql = \"\"\"\n",
    "    select {field} from ({t1}) t1\n",
    "    left join ({t2}) t2 on({on})\n",
    "    \"\"\"\n",
    "\n",
    "    def __init__(self, field, t1, t2, on):\n",
    "        self._field = field\n",
    "        self._t1 = t1\n",
    "        self._t2 = t2\n",
    "        self._on = on\n",
    "\n",
    "    def __call__(self, fn):\n",
    "        @wraps(fn)\n",
    "        def wrapped(*args, **kwargs):\n",
    "            return self._sql.format(field=','.join(self._field), \n",
    "                                    t1=self._t1, \n",
    "                                    t2=self._t2, \n",
    "                                    on=' '.join(self._on))\n",
    "\n",
    "        return wrapped\n",
    "\n",
    "\n",
    "class RightJoin(object):\n",
    "    _sql = \"\"\"\n",
    "    select {field} from ({t1}) t1\n",
    "    right join ({t2}) t2 on({on})\n",
    "    \"\"\"\n",
    "\n",
    "    def __init__(self, field, t1, t2, on):\n",
    "        self._field = field\n",
    "        self._t1 = t1\n",
    "        self._t2 = t2\n",
    "        self._on = on\n",
    "\n",
    "    def __call__(self, fn):\n",
    "        @wraps(fn)\n",
    "        def wrapped(*args, **kwargs):\n",
    "            return self._sql.format(field=','.join(self._field), \n",
    "                                    t1=self._t1, \n",
    "                                    t2=self._t2, \n",
    "                                    on=' '.join(self._on))\n",
    "\n",
    "        return wrapped"
   ]
  },
  {
   "cell_type": "code",
   "execution_count": 30,
   "metadata": {},
   "outputs": [
    {
     "data": {
      "text/plain": [
       "'select aaaa.1111 from (select * from table where 1=1 ) aaaa'"
      ]
     },
     "execution_count": 30,
     "metadata": {},
     "output_type": "execute_result"
    }
   ],
   "source": [
    "@SubQuery(field=['1111'],alias='aaaa')\n",
    "@Select(fld=['*'], flt=[\"1=1\"], grp=[])\n",
    "def table():\n",
    "    return 'table'\n",
    "\n",
    "table()"
   ]
  },
  {
   "cell_type": "code",
   "execution_count": 31,
   "metadata": {},
   "outputs": [
    {
     "data": {
      "text/plain": [
       "'\\n    select * from (select * from table1 where 1=1 ) t1\\n    join (select * from table2 where 1=1 ) t2 on(t1.id=t2.id)\\n    '"
      ]
     },
     "execution_count": 31,
     "metadata": {},
     "output_type": "execute_result"
    }
   ],
   "source": [
    "@Select(fld=['*'], flt=[\"1=1\"], grp=[])\n",
    "def table1():\n",
    "    return 'table1'\n",
    "\n",
    "@Select(fld=['*'], flt=[\"1=1\"], grp=[])\n",
    "def table2():\n",
    "    return 'table2'\n",
    "\n",
    "s2=table1()\n",
    "s3=table2()\n",
    "\n",
    "@Join(field=['*'],t1=s2,t2=s3,on=['t1.id=t2.id'])\n",
    "def join():\n",
    "    return ''\n",
    "\n",
    "join()"
   ]
  },
  {
   "cell_type": "code",
   "execution_count": null,
   "metadata": {},
   "outputs": [],
   "source": []
  },
  {
   "cell_type": "code",
   "execution_count": null,
   "metadata": {},
   "outputs": [],
   "source": []
  },
  {
   "cell_type": "code",
   "execution_count": null,
   "metadata": {},
   "outputs": [],
   "source": []
  }
 ],
 "metadata": {
  "kernelspec": {
   "display_name": "Python 3",
   "language": "python",
   "name": "python3"
  },
  "language_info": {
   "codemirror_mode": {
    "name": "ipython",
    "version": 3
   },
   "file_extension": ".py",
   "mimetype": "text/x-python",
   "name": "python",
   "nbconvert_exporter": "python",
   "pygments_lexer": "ipython3",
   "version": "3.6.4"
  }
 },
 "nbformat": 4,
 "nbformat_minor": 2
}
