{
 "cells": [
  {
   "cell_type": "markdown",
   "metadata": {},
   "source": [
    "# 利用py注解实现创建sql"
   ]
  },
  {
   "cell_type": "markdown",
   "metadata": {},
   "source": [
    "本文只提供了最基本的定制sql的注解，但是实际中，你可以通过这些基本注解，再定义自己的注解，从而实现更丰富的功能。"
   ]
  },
  {
   "cell_type": "code",
   "execution_count": 9,
   "metadata": {},
   "outputs": [],
   "source": [
    "from etl import *"
   ]
  },
  {
   "cell_type": "markdown",
   "metadata": {},
   "source": [
    "# 测试select和subquery"
   ]
  },
  {
   "cell_type": "code",
   "execution_count": 18,
   "metadata": {},
   "outputs": [],
   "source": [
    "def test_Select_and_SubQuery():\n",
    "    \"\"\"\n",
    "\n",
    "    :return:\n",
    "    \"\"\"\n",
    "\n",
    "    @SubQuery(field=['id', 'name'], alias='t1')\n",
    "    @Select(field=['*'], f=[\"1=1\", 'and', 'id >100'])\n",
    "    def table():\n",
    "        return 'table'\n",
    "\n",
    "    print('---------------------')\n",
    "    print('| Select and SubQuery')\n",
    "    print('---------------------')\n",
    "    s = table()\n",
    "    print('s:   {}'.format(s))"
   ]
  },
  {
   "cell_type": "code",
   "execution_count": 19,
   "metadata": {},
   "outputs": [
    {
     "name": "stdout",
     "output_type": "stream",
     "text": [
      "---------------------\n",
      "| Select and SubQuery\n",
      "---------------------\n",
      "s:   select id,name from (select * from table WHERE 1=1 and id >100) t1\n"
     ]
    }
   ],
   "source": [
    "test_Select_and_SubQuery()"
   ]
  },
  {
   "cell_type": "markdown",
   "metadata": {},
   "source": [
    "# 测试join"
   ]
  },
  {
   "cell_type": "code",
   "execution_count": 20,
   "metadata": {},
   "outputs": [],
   "source": [
    "def test_Join():\n",
    "    \"\"\"\n",
    "\n",
    "    :return:\n",
    "    \"\"\"\n",
    "\n",
    "    @Select(field=['*'], f=[\"1=1\"])\n",
    "    def table1():\n",
    "        return 'table1'\n",
    "\n",
    "    @Select(field=['*'], f=[\"1=1\"])\n",
    "    def table2():\n",
    "        return 'table2'\n",
    "\n",
    "    print('---------------------')\n",
    "    print('| Join')\n",
    "    print('---------------------')\n",
    "    s1 = table1()\n",
    "    s2 = table2()\n",
    "    print('s1:  {}'.format(s1))\n",
    "    print('s2:  {}'.format(s2))\n",
    "\n",
    "    @Join(t=\"right\", before=s1, after=s2, field=['*'], on=['t1.id=t2.id'])\n",
    "    def join(before_field=[], after_field=[]):\n",
    "        return {\n",
    "            \"before_field\": before_field,\n",
    "            \"after_field\": after_field\n",
    "        }\n",
    "\n",
    "    s3 = join()\n",
    "    print('s3:  {}'.format(s3))"
   ]
  },
  {
   "cell_type": "code",
   "execution_count": 21,
   "metadata": {},
   "outputs": [
    {
     "name": "stdout",
     "output_type": "stream",
     "text": [
      "---------------------\n",
      "| Join\n",
      "---------------------\n",
      "s1:  select * from table1 WHERE 1=1\n",
      "s2:  select * from table2 WHERE 1=1\n",
      "s3:  \n",
      "    select * from (select * from table1 WHERE 1=1) t1\n",
      "    right join (select * from table2 WHERE 1=1) t2 on(t1.id=t2.id)\n",
      "    \n"
     ]
    }
   ],
   "source": [
    "test_Join()"
   ]
  },
  {
   "cell_type": "markdown",
   "metadata": {},
   "source": [
    "# 测试selectmap和map"
   ]
  },
  {
   "cell_type": "code",
   "execution_count": 22,
   "metadata": {},
   "outputs": [],
   "source": [
    "def test_SelectMap_and_Map():\n",
    "    \"\"\"\n",
    "\n",
    "    :return:\n",
    "    \"\"\"\n",
    "    print('---------------------')\n",
    "    print('| SelectMap and Map')\n",
    "    print('---------------------')\n",
    "\n",
    "    @SelectMap(\n",
    "        field=['identity', 'start_date', 'len', \"regexp_replace(regexp_replace(y, '\\\\\\\\]', ''), '\\\\\\\\[', '') as y\"],\n",
    "        field_map=['identity', 'start_date', 'len', 'split(y) as y'], alias=\"t1\",\n",
    "        f=[\"type='XTL'\", \"and\", \"key='sales'\"])\n",
    "    def select_map(table):\n",
    "        return {\"table\": table}\n",
    "\n",
    "    s1 = select_map(table=\"mytable\")\n",
    "    print('s1:  {}'.format(s1))\n",
    "\n",
    "    @Map(mapper=['identity', 'start_date', 'len', \"concat(',', d1, d2)\"], alias=\"t2\")\n",
    "    @Map(mapper=['identity', 'start_date', 'len', 'd1', 'd2'], alias=\"t2\")\n",
    "    def mapper():\n",
    "        sql = select_map(\"mytable\")\n",
    "        return sql\n",
    "\n",
    "    s2 = mapper()\n",
    "    print('s2:  {}'.format(s2))"
   ]
  },
  {
   "cell_type": "code",
   "execution_count": 23,
   "metadata": {},
   "outputs": [
    {
     "name": "stdout",
     "output_type": "stream",
     "text": [
      "---------------------\n",
      "| SelectMap and Map\n",
      "---------------------\n",
      "s1:  select identity,start_date,len,split(y) as y from (select identity,start_date,len,regexp_replace(regexp_replace(y, '\\\\]', ''), '\\\\[', '') as y from mytable WHERE type='XTL' and key='sales') t1\n",
      "s2:  select identity,start_date,len,concat(',', d1, d2) from (select identity,start_date,len,d1,d2 from (select identity,start_date,len,split(y) as y from (select identity,start_date,len,regexp_replace(regexp_replace(y, '\\\\]', ''), '\\\\[', '') as y from mytable WHERE type='XTL' and key='sales') t1) t2) t2\n"
     ]
    }
   ],
   "source": [
    "test_SelectMap_and_Map()"
   ]
  },
  {
   "cell_type": "code",
   "execution_count": null,
   "metadata": {},
   "outputs": [],
   "source": []
  }
 ],
 "metadata": {
  "kernelspec": {
   "display_name": "Python 3",
   "language": "python",
   "name": "python3"
  },
  "language_info": {
   "codemirror_mode": {
    "name": "ipython",
    "version": 3
   },
   "file_extension": ".py",
   "mimetype": "text/x-python",
   "name": "python",
   "nbconvert_exporter": "python",
   "pygments_lexer": "ipython3",
   "version": "3.6.5"
  }
 },
 "nbformat": 4,
 "nbformat_minor": 2
}
