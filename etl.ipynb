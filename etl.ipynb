{
 "cells": [
  {
   "cell_type": "code",
   "execution_count": null,
   "metadata": {},
   "outputs": [],
   "source": [
    "class Select(object):\n",
    "    _sql = \"select {field} from {table} where {filter} {group}\"\n",
    "\n",
    "    def __init__(self, fld, flt, grp):\n",
    "        self._field = fld\n",
    "        self._filter = flt\n",
    "        self._group = grp\n",
    "\n",
    "    def __call__(self, fn):\n",
    "        def wrapped(*args, **kwargs):\n",
    "            fieldStr = ','.join(self._field)\n",
    "            filterStr = ','.join(self._filter)\n",
    "            groupStr = ','.join(self._group)\n",
    "            groupStr = \"\" if len(groupStr) <= 0 else \"group by \" + groupStr\n",
    "            return self._sql.format(field=fieldStr,\n",
    "                                    table=fn(*args, **kwargs),\n",
    "                                    filter=filterStr,\n",
    "                                    group=groupStr)\n",
    "\n",
    "        return wrapped\n",
    "\n",
    "\n",
    "class SubQuery(object):\n",
    "    _sql = \"select * from ({subquery}) t\"\n",
    "\n",
    "    def __init__(self):\n",
    "        pass\n",
    "\n",
    "    def __call__(self, fn):\n",
    "        def wrapped(*args, **kwargs):\n",
    "            return self._sql.format(subquery=fn(*args, **kwargs))\n",
    "        return wrapped"
   ]
  },
  {
   "cell_type": "code",
   "execution_count": null,
   "metadata": {},
   "outputs": [],
   "source": [
    "@SubQuery()\n",
    "@Select(fld=['*'], flt=[\"1=1\"], grp=[])\n",
    "def create(table):\n",
    "    return table\n",
    "\n",
    "s=create(\"t1\")\n",
    "print(s)"
   ]
  },
  {
   "cell_type": "code",
   "execution_count": null,
   "metadata": {},
   "outputs": [],
   "source": [
    "class Join(object):\n",
    "    _sql = \"\"\"\n",
    "    select {field} from ({t1}) t1\n",
    "    join ({t2}) t2 on({on})\n",
    "    \"\"\"\n",
    "\n",
    "    def __init__(self,field,t1,t2,on):\n",
    "        self._t1=t1\n",
    "        self._t2=t2\n",
    "        self._on=on\n",
    "\n",
    "    def __call__(self, fn):\n",
    "        def wrapped(*args, **kwargs):\n",
    "            return self._sql.format(t1=self._t1,t2=self._t2,on=self._on)\n",
    "        return wrapped"
   ]
  },
  {
   "cell_type": "code",
   "execution_count": null,
   "metadata": {},
   "outputs": [],
   "source": []
  }
 ],
 "metadata": {
  "kernelspec": {
   "display_name": "Python 3",
   "language": "python",
   "name": "python3"
  },
  "language_info": {
   "codemirror_mode": {
    "name": "ipython",
    "version": 3
   },
   "file_extension": ".py",
   "mimetype": "text/x-python",
   "name": "python",
   "nbconvert_exporter": "python",
   "pygments_lexer": "ipython3",
   "version": "3.6.5"
  }
 },
 "nbformat": 4,
 "nbformat_minor": 2
}
